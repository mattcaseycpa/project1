{
 "cells": [
  {
   "cell_type": "code",
   "execution_count": null,
   "metadata": {},
   "outputs": [],
   "source": [
    "#import dependencies \n",
    "from matplotlib import pyplot as plt\n",
    "from scipy import stats\n",
    "import numpy as np\n",
    "import pandas as pd\n",
    "from scipy.stats import linregress\n",
    "#import scipy.stats as st"
   ]
  },
  {
   "cell_type": "markdown",
   "metadata": {},
   "source": []
  },
  {
   "cell_type": "code",
   "execution_count": null,
   "metadata": {},
   "outputs": [],
   "source": [
    "data_df=pd.read_csv(\"Data/HappinessAlcoholConsumption.csv\")\n",
    "data_df.head()"
   ]
  },
  {
   "cell_type": "markdown",
   "metadata": {},
   "source": [
    "# Dataframe Information\n"
   ]
  },
  {
   "cell_type": "code",
   "execution_count": null,
   "metadata": {},
   "outputs": [],
   "source": [
    "data_df = data_df.dropna()\n",
    "\n",
    "data_df.dtypes"
   ]
  },
  {
   "cell_type": "code",
   "execution_count": null,
   "metadata": {},
   "outputs": [],
   "source": [
    "for index, row in data_df.iterrows():\n",
    "    if row[\"GDP_PerCapita\"] % 1 > 0:\n",
    "        data_df.loc[index, \"GDP_PerCapita\"] = 1000 * row[\"GDP_PerCapita\"]\n",
    "        \n",
    "data_df.head()"
   ]
  },
  {
   "cell_type": "code",
   "execution_count": null,
   "metadata": {},
   "outputs": [],
   "source": [
    "#shape of dataframe\n",
    "data_df.shape"
   ]
  },
  {
   "cell_type": "code",
   "execution_count": null,
   "metadata": {},
   "outputs": [],
   "source": [
    "#unique regions\n",
    "data_df[\"Region\"].unique()"
   ]
  },
  {
   "cell_type": "code",
   "execution_count": null,
   "metadata": {},
   "outputs": [],
   "source": [
    "#unique countries\n",
    "data_df[\"Country\"].unique()"
   ]
  },
  {
   "cell_type": "code",
   "execution_count": null,
   "metadata": {},
   "outputs": [],
   "source": [
    "data_df.columns"
   ]
  },
  {
   "cell_type": "markdown",
   "metadata": {},
   "source": [
    "# Importing Population Data\n",
    "for use in averaging GDP per capita"
   ]
  },
  {
   "cell_type": "code",
   "execution_count": null,
   "metadata": {},
   "outputs": [],
   "source": [
    "pop_data = pd.read_csv(\"Data/Population Data/Global Population Trends(2016-2022).csv\")\n",
    "pop_data_2018 = pop_data.loc[pop_data[\"Year\"] == 2018, [\"Country\", \"Total Population\"]]\n",
    "pop_data_2018.head()"
   ]
  },
  {
   "cell_type": "code",
   "execution_count": null,
   "metadata": {},
   "outputs": [],
   "source": [
    "pop_data_2018[\"Total Population\"]=pop_data_2018[\"Total Population\"].str.replace(\",\",\"\")\n",
    "pop_data_2018[\"Total Population\"] = pop_data_2018[\"Total Population\"].astype(\"int\")\n",
    "pop_data_2018.dtypes"
   ]
  },
  {
   "cell_type": "markdown",
   "metadata": {},
   "source": [
    "For both datasets, I looked to see which countries showed up in both datasets, but with different names, e.g. \"Republic of Congo\" in one set was called \"Rep. Congo\" in the other. I updated the naming to be consistent in both files to ensure the inner join below would guarantee the maximum number of countries upon joining."
   ]
  },
  {
   "cell_type": "code",
   "execution_count": null,
   "metadata": {
    "scrolled": false
   },
   "outputs": [],
   "source": [
    "merged_data = pd.merge(pop_data_2018, data_df, how = \"inner\", left_on = \"Country\", right_on = \"Country\")\n",
    "merged_data"
   ]
  },
  {
   "cell_type": "code",
   "execution_count": null,
   "metadata": {},
   "outputs": [],
   "source": [
    "merged_data.dtypes"
   ]
  },
  {
   "cell_type": "code",
   "execution_count": null,
   "metadata": {},
   "outputs": [],
   "source": [
    "merged_data_complete = merged_data.copy()\n",
    "\n",
    "merged_data_complete[\"GDP\"] = merged_data_complete[\"Total Population\"] * merged_data_complete[\"GDP_PerCapita\"]\n",
    "merged_data_complete[\"Beer\"] = merged_data_complete[\"Total Population\"] * merged_data_complete[\"Beer_PerCapita\"]\n",
    "merged_data_complete[\"Spirit\"] = merged_data_complete[\"Total Population\"] * merged_data_complete[\"Spirit_PerCapita\"]\n",
    "merged_data_complete[\"Wine\"] = merged_data_complete[\"Total Population\"] * merged_data_complete[\"Wine_PerCapita\"]\n",
    "\n",
    "merged_data_complete"
   ]
  },
  {
   "cell_type": "code",
   "execution_count": null,
   "metadata": {},
   "outputs": [],
   "source": [
    "region_data = merged_data_complete.groupby([\"Region\"])\n",
    "per_capita_data = region_data[[\"Total Population\", \"GDP\",\"Beer\", \"Spirit\", \"Wine\"]].sum()\n",
    "\n",
    "per_capita_data[\"GDP_per\"] = per_capita_data[\"GDP\"] / per_capita_data[\"Total Population\"]\n",
    "per_capita_data[\"Beer_per\"] = per_capita_data[\"Beer\"] / per_capita_data[\"Total Population\"]\n",
    "per_capita_data[\"Spirit_per\"] = per_capita_data[\"Spirit\"] / per_capita_data[\"Total Population\"]\n",
    "per_capita_data[\"Wine_per\"] = per_capita_data[\"Wine\"] / per_capita_data[\"Total Population\"]\n",
    "\n",
    "per_capita_data"
   ]
  },
  {
   "cell_type": "code",
   "execution_count": null,
   "metadata": {},
   "outputs": [],
   "source": [
    "per_capita_data_copy = per_capita_data.copy()\n",
    "\n",
    "per_capita_data_copy = per_capita_data_copy.reset_index()\n",
    "\n",
    "per_capita_data_copy[[\"Region\", \"Beer_per\", \"Spirit_per\", \"Wine_per\"]]\\\n",
    "    .plot.bar(x = \"Region\",\n",
    "              stacked = True,\n",
    "              title = \"Total Alcohol Consumption By Region\",\n",
    "              color = [\"goldenrod\", \"darkred\", \"slategray\"]\n",
    "             )\n",
    "plt.grid(axis = \"y\")\n",
    "# per_capita_data_copy.plot(x = \"Region\", y = \"Wine_per\", kind = \"bar\")\n",
    "# per_capita_data_copy.plot(x = \"Region\", y = \"Spirit_per\", kind = \"bar\")\n",
    "\n",
    "plt.show()"
   ]
  },
  {
   "cell_type": "markdown",
   "metadata": {},
   "source": [
    "# GDP Analysis\n",
    "first by regional averages, then by country"
   ]
  },
  {
   "cell_type": "code",
   "execution_count": null,
   "metadata": {},
   "outputs": [],
   "source": [
    "#Analysing GDP\n",
    "gdp_df=merged_data_complete[[\"Country\",\"Region\",\"GDP\",\"Hemisphere\"]].copy()\n",
    "gdp_df"
   ]
  },
  {
   "cell_type": "code",
   "execution_count": null,
   "metadata": {},
   "outputs": [],
   "source": [
    "#Average GDP by Region\n",
    "plt.figure(figsize=(18,12))\n",
    "gdp_df.groupby('Region')['GDP'].mean().plot(kind='bar', color='turquoise')\n",
    "plt.title('Average GDP by Region', fontsize=20)\n",
    "plt.xlabel('Region')\n",
    "plt.ylabel('GDP')\n",
    "plt.xticks(rotation=45, ha='right', fontsize=10)\n",
    "\n",
    "#save figure\n",
    "plt.savefig(\"output_data/GDP_HDI/Average_GDP_by_Region.png\", bbox_inches='tight')\n",
    "\n",
    "plt.show()"
   ]
  },
  {
   "cell_type": "code",
   "execution_count": null,
   "metadata": {},
   "outputs": [],
   "source": [
    "#chart for GDP by Region\n",
    "gdp=gdp_df[\"GDP\"]\n",
    "region=gdp_df[\"Region\"]\n",
    "\n",
    "plt.bar(region,gdp,color=\"teal\",alpha=0.5,align=\"center\")\n",
    "tick_loactions=[value for value in region]\n",
    "plt.xticks(tick_loactions,region,rotation=45)\n",
    "\n",
    "plt.title(\"GDP by Region\")\n",
    "plt.xlabel(\"Region\")\n",
    "plt.ylabel(\"GDP\")\n",
    "\n",
    "plt.savefig(\"output_data/GDP_HDI/GDP_by_Region.png\", bbox_inches='tight')\n",
    "\n",
    "plt.show()"
   ]
  },
  {
   "cell_type": "code",
   "execution_count": null,
   "metadata": {},
   "outputs": [],
   "source": [
    "#chart for GDP by Hemisphere\n",
    "gdp=gdp_df[\"GDP\"]\n",
    "region=gdp_df[\"Hemisphere\"]\n",
    "\n",
    "plt.bar(region,gdp,color=\"teal\",alpha=0.5,align=\"center\")\n",
    "tick_loactions=[value for value in region]\n",
    "plt.xticks(tick_loactions,region,rotation=90)\n",
    "\n",
    "plt.title(\"GDP by Hemisphere\")\n",
    "plt.xlabel(\"Hemisphere\")\n",
    "plt.ylabel(\"GDP\")\n",
    "\n",
    "plt.savefig(\"output_data/GDP_HDI/GDP_by_hemisphere.png\", bbox_inches='tight')\n",
    "\n",
    "plt.show()"
   ]
  },
  {
   "cell_type": "code",
   "execution_count": null,
   "metadata": {},
   "outputs": [],
   "source": [
    "#top 20 GDP countries\n",
    "gdp=gdp_df.sort_values([\"GDP\"],ascending=False)\n",
    "gdp.head(25)"
   ]
  },
  {
   "cell_type": "code",
   "execution_count": null,
   "metadata": {},
   "outputs": [],
   "source": [
    "#chart top 25 countries by GDP\n",
    "gdp=gdp_df[\"GDP\"]\n",
    "country=gdp_df[\"Country\"]\n",
    "\n",
    "plt.figure(figsize=(15, 10))\n",
    "top_25_countries = gdp_df.nlargest(25, 'GDP')\n",
    "top_25_countries.plot(kind='barh', x='Country', y='GDP', color='paleturquoise', legend=False)\n",
    "plt.title('Top 25 Countries by GDP', fontsize=20)\n",
    "plt.xlabel('GDP')\n",
    "plt.ylabel('Country')\n",
    "\n",
    "plt.savefig(\"output_data/GDP_HDI/Top_GDP.png\", bbox_inches='tight')\n",
    "plt.show()\n"
   ]
  },
  {
   "cell_type": "code",
   "execution_count": null,
   "metadata": {},
   "outputs": [],
   "source": [
    "#bottom 20 GDP countries\n",
    "gdp=gdp_df.sort_values([\"GDP\"],ascending=True)\n",
    "gdp.head(25)"
   ]
  },
  {
   "cell_type": "code",
   "execution_count": null,
   "metadata": {},
   "outputs": [],
   "source": [
    "#Bottom 25 countries by GDP\n",
    "plt.figure(figsize=(15, 10))\n",
    "smallest_25_countries = gdp_df.nsmallest(25, 'GDP')\n",
    "smallest_25_countries.plot(kind='barh', x='Country', y='GDP', color='teal', legend=False)\n",
    "plt.title('Bottom 25 Countries by GDP', fontsize=20)\n",
    "plt.xlabel('GDP')\n",
    "plt.ylabel('Country')\n",
    "\n",
    "\n",
    "plt.savefig(\"output_data/GDP_HDI/Bottom_GDP.png\", bbox_inches='tight')\n",
    "plt.show()"
   ]
  },
  {
   "cell_type": "markdown",
   "metadata": {},
   "source": [
    "# Human Deveolpment Index (HDI)\n",
    "first by regional averages, then by country"
   ]
  },
  {
   "cell_type": "code",
   "execution_count": null,
   "metadata": {},
   "outputs": [],
   "source": [
    "#Analysing for HDI by Region\n",
    "hdi_df=data_df[[\"Country\",\"Region\",\"HDI\",\"Hemisphere\"]].copy()\n",
    "hdi_df"
   ]
  },
  {
   "cell_type": "code",
   "execution_count": null,
   "metadata": {},
   "outputs": [],
   "source": [
    "#average HDI per region\n",
    "plt.figure(figsize=(15, 6))\n",
    "hdi_df.groupby('Region')['HDI'].mean().plot(kind='bar', color='hotpink')\n",
    "plt.title('Average HDI by Region', fontsize=20)\n",
    "plt.xlabel('Region')\n",
    "plt.ylabel('Human Development Index')\n",
    "plt.xticks(rotation=45, ha='right')\n",
    "\n",
    "plt.savefig(\"output_data/GDP_HDI/Average_HDI_by_Region.png\", bbox_inches='tight')\n",
    "plt.show()"
   ]
  },
  {
   "cell_type": "code",
   "execution_count": null,
   "metadata": {},
   "outputs": [],
   "source": [
    "#HDI per region\n",
    "hdi=hdi_df[\"HDI\"]\n",
    "region=hdi_df[\"Region\"]\n",
    "\n",
    "plt.bar(region,hdi,color=\"hotpink\",alpha=0.5,align=\"center\")\n",
    "tick_loactions=[value for value in region]\n",
    "plt.xticks(tick_loactions,region,rotation=45)\n",
    "\n",
    "plt.title(\"HDI by Region\")\n",
    "plt.xlabel(\"Region\")\n",
    "plt.ylabel(\"Human Development Index\")\n",
    "\n",
    "plt.savefig(\"output_data/GDP_HDI/HDI_by_Region.png\", bbox_inches='tight')\n",
    "plt.show()"
   ]
  },
  {
   "cell_type": "code",
   "execution_count": null,
   "metadata": {},
   "outputs": [],
   "source": [
    "#chart for HDI by Hemisphere\n",
    "hdi=hdi_df[\"HDI\"]\n",
    "region=hdi_df[\"Hemisphere\"]\n",
    "\n",
    "plt.bar(region,hdi,color=\"hotpink\",alpha=0.5,align=\"center\")\n",
    "tick_loactions=[value for value in region]\n",
    "plt.xticks(tick_loactions,region,rotation=90)\n",
    "\n",
    "plt.title(\"HDI by Hemisphere\")\n",
    "plt.xlabel(\"Hemisphere\")\n",
    "plt.ylabel(\"Human Development Index\")\n",
    "\n",
    "plt.savefig(\"output_data/GDP_HDI/HDI_by_Hemisphere.png\", bbox_inches='tight')\n",
    "plt.show()"
   ]
  },
  {
   "cell_type": "code",
   "execution_count": null,
   "metadata": {},
   "outputs": [],
   "source": [
    "#Top 25 HDI Countries\n",
    "hdi=hdi_df.sort_values([\"HDI\"],ascending=False)\n",
    "hdi.head(25)"
   ]
  },
  {
   "cell_type": "code",
   "execution_count": null,
   "metadata": {},
   "outputs": [],
   "source": [
    "#Top 25 HDI Countries Graph\n",
    "hdi=hdi_df[\"HDI\"]\n",
    "country=hdi_df[\"Country\"]\n",
    "\n",
    "plt.figure(figsize=(15, 10))\n",
    "top_25_countries = hdi_df.nlargest(25, 'HDI')\n",
    "top_25_countries.plot(kind='barh', x='Country', y='HDI', color='pink', legend=False)\n",
    "plt.title('Top 25 Countries by HDI', fontsize=20)\n",
    "plt.xlabel('Human Development Index')\n",
    "plt.ylabel('Country')\n",
    "\n",
    "\n",
    "plt.savefig(\"output_data/GDP_HDI/Top_HDI.png\", bbox_inches='tight')\n",
    "plt.show()"
   ]
  },
  {
   "cell_type": "code",
   "execution_count": null,
   "metadata": {},
   "outputs": [],
   "source": [
    "#bottom 25 HDI Countries\n",
    "hdi=hdi_df.sort_values([\"HDI\"],ascending=True)\n",
    "hdi.head(25)"
   ]
  },
  {
   "cell_type": "code",
   "execution_count": null,
   "metadata": {},
   "outputs": [],
   "source": [
    "#bottom 25 HDI Countries\n",
    "hdi=hdi_df[\"HDI\"]\n",
    "country=hdi_df[\"Country\"]\n",
    "\n",
    "plt.figure(figsize=(15, 10))\n",
    "top_25_countries = hdi_df.nsmallest(25, 'HDI')\n",
    "top_25_countries.plot(kind='barh', x='Country', y='HDI', color='palevioletred', legend=False)\n",
    "plt.title('Bottom 25 Countries by HDI', fontsize=20)\n",
    "plt.xlabel('Human Development Index')\n",
    "plt.ylabel('Country')\n",
    "\n",
    "\n",
    "plt.savefig(\"output_data/GDP_HDI/Bottom_HDI.png\", bbox_inches='tight')\n",
    "plt.show()"
   ]
  },
  {
   "cell_type": "code",
   "execution_count": null,
   "metadata": {},
   "outputs": [],
   "source": [
    "#GDP and HDI corrolation\n",
    "correlation = gdp_df['GDP'].corr(hdi_df['HDI'])\n",
    "\n",
    "print(f\"The correlation coefficient between GDP and HDI is: {correlation}\")"
   ]
  },
  {
   "cell_type": "markdown",
   "metadata": {},
   "source": [
    "## Happy Places"
   ]
  },
  {
   "cell_type": "code",
   "execution_count": null,
   "metadata": {},
   "outputs": [],
   "source": [
    "#Happy Places\n",
    "#Happiest places (Top 10)\n",
    "most_happiest_df = data_df.head(10)\n",
    "most_happiest_df = most_happiest_df [[\"Country\",\"HappinessScore\"]]\n",
    "most_happiest_df"
   ]
  },
  {
   "cell_type": "code",
   "execution_count": null,
   "metadata": {},
   "outputs": [],
   "source": [
    "least_happiest_df = data_df.tail(10)\n",
    "least_happiest_df= least_happiest_df [[\"Country\",\"HappinessScore\"]]\n",
    "least_happiest_df"
   ]
  },
  {
   "cell_type": "code",
   "execution_count": null,
   "metadata": {},
   "outputs": [],
   "source": [
    "#Happies Regions (Top 10)HappinessScore\n",
    "happy_region_df = data_df.groupby([\"Region\"])[\"HappinessScore\"].mean()\n",
    "happy_region_df "
   ]
  },
  {
   "cell_type": "code",
   "execution_count": null,
   "metadata": {},
   "outputs": [],
   "source": [
    "#Happies Hemisphere\n",
    "happy_hemisphere_df = data_df.groupby([\"Hemisphere\"])[\"HappinessScore\"].mean()\n",
    "happy_hemisphere_df "
   ]
  },
  {
   "cell_type": "code",
   "execution_count": null,
   "metadata": {},
   "outputs": [],
   "source": [
    "#Happiness Level Visualization\n",
    "#Most top 10 happy country\n",
    "happy=most_happiest_df[\"HappinessScore\"]\n",
    "country=most_happiest_df[\"Country\"]\n",
    "\n",
    "plt.bar(country,happy,color=\"r\",alpha=0.5,align=\"center\")\n",
    "tick_loactions=[value for value in country]\n",
    "plt.xticks(tick_loactions,country,rotation=90)\n",
    "\n",
    "plt.title(\"Top 10 Happy Countries\")\n",
    "plt.xlabel(\"Country\")\n",
    "plt.ylabel(\"Happiness Score\")"
   ]
  },
  {
   "cell_type": "code",
   "execution_count": null,
   "metadata": {},
   "outputs": [],
   "source": [
    "#Happiness Level Visualization\n",
    "#Bottow 10 least happy country\n",
    "happy=least_happiest_df[\"HappinessScore\"]\n",
    "country=least_happiest_df[\"Country\"]\n",
    "\n",
    "plt.bar(country,happy,color=\"r\",alpha=0.5,align=\"center\")\n",
    "tick_loactions=[value for value in country]\n",
    "plt.xticks(tick_loactions,country,rotation=90)\n",
    "\n",
    "plt.title(\"Bottom 10 Least Happy Countries\")\n",
    "plt.xlabel(\"Country\")\n",
    "plt.ylabel(\"Happiness Score\")"
   ]
  },
  {
   "cell_type": "code",
   "execution_count": null,
   "metadata": {},
   "outputs": [],
   "source": [
    "#Happiness level per Region\n",
    "\n",
    "bar_plot = happy_region_df.plot.bar(width=0.7, zorder=3)\n",
    "\n",
    "# Set labels for axes\n",
    "bar_plot.set_xlabel(\"Region\")\n",
    "bar_plot.set_ylabel(\"# Average Happines Score\")\n",
    "bar_plot.set_title(\"Happiness level per Region\")\n",
    "\n",
    "\n",
    "# Create a grid - using 'zorder' places grid behind the bars since we set their z-order higher\n",
    "bar_plot.grid(zorder=0)"
   ]
  },
  {
   "cell_type": "code",
   "execution_count": null,
   "metadata": {},
   "outputs": [],
   "source": [
    "#Happiness level per Hemisphere\\n\",\n",
    "bar_plot = happy_hemisphere_df.plot.bar(width=0.7, zorder=3)\n",
    "# Set labels for axes\\n\",\n",
    "bar_plot.set_xlabel(\"Region\")\n",
    "bar_plot.set_ylabel(\"# Average Happines Score\")\n",
    "bar_plot.set_title(\"Happiness level per Hemisphere\")\n",
    "# Create a grid - using 'zorder' places grid behind the bars since we set their z-order higher\\n\"\n",
    "bar_plot.grid(zorder=0)"
   ]
  },
  {
   "cell_type": "markdown",
   "metadata": {},
   "source": [
    "## Alcohol Consumption and Happiness"
   ]
  },
  {
   "cell_type": "code",
   "execution_count": null,
   "metadata": {},
   "outputs": [],
   "source": [
    "OH_happiness = merged_data_complete[[\"Country\", \"HappinessScore\", \"Beer_PerCapita\", \"Spirit_PerCapita\", \"Wine_PerCapita\"]].copy()\n",
    "len(OH_happiness)"
   ]
  },
  {
   "cell_type": "code",
   "execution_count": null,
   "metadata": {},
   "outputs": [],
   "source": [
    "# function to create create scatter and linear regression plots\n",
    "def lin_regress(x_vals, y_vals, color, x_ann, y_ann):\n",
    "    (slope, intercept, rval, pval, stderr) = linregress(x_vals, y_vals)\n",
    "    #plt.subplots(figsize=(15, 6))\n",
    "    print(f\"The {x_vals.name} r-value is: {rval}\")\n",
    "    regress_vals = x_vals * slope + intercept\n",
    "    line_eq = f\"y = {round(slope,5)} x + {round(intercept,2)}\"\n",
    "    #title = f\"Happiness by {x_label}\"\n",
    "    plt.scatter(x_vals, y_vals, c=color)\n",
    "    plt.plot(x_vals,regress_vals,color)\n",
    "    plt.annotate(line_eq,(x_ann, y_ann),fontsize=15,color=color)\n",
    "    plt.title(f\"Happiness by Beverage Consumption\")\n",
    "    #plt.xlabel(f\"{x_label}\")\n",
    "    plt.xlabel(f\"Beverage Consumption per Capita\")\n",
    "    plt.ylabel(f\"Happiness\")\n",
    "    plt.ylim(0, y_vals.max()+1)\n",
    "    #plt.legend()\n",
    "    plt.savefig(f\"output_data/Happiness by Beverage Consumption.png\")\n",
    "\n"
   ]
  },
  {
   "cell_type": "code",
   "execution_count": null,
   "metadata": {},
   "outputs": [],
   "source": [
    "\n",
    "plt.figure(figsize=(10, 5))\n",
    "beer_scat = lin_regress(OH_happiness[\"Beer_PerCapita\"], OH_happiness[\"HappinessScore\"], \"goldenrod\", 150, 3)\n",
    "wine_scat = lin_regress(OH_happiness[\"Wine_PerCapita\"], OH_happiness[\"HappinessScore\"], \"darkred\", 150, 2)\n",
    "spirit_scat = lin_regress(OH_happiness[\"Spirit_PerCapita\"], OH_happiness[\"HappinessScore\"], \"slategray\", 150, 1)\n",
    "\n",
    "plt.show()"
   ]
  },
  {
   "cell_type": "code",
   "execution_count": null,
   "metadata": {},
   "outputs": [],
   "source": [
    "plt.figure(figsize=(15, 5))\n",
    "\n",
    "all_bevs_scat = lin_regress(\n",
    "    (OH_happiness[\"Beer_PerCapita\"]+OH_happiness[\"Wine_PerCapita\"]+OH_happiness[\"Spirit_PerCapita\"]),\n",
    "    OH_happiness[\"HappinessScore\"], \"green\", 150, 0)"
   ]
  },
  {
   "cell_type": "code",
   "execution_count": null,
   "metadata": {},
   "outputs": [],
   "source": []
  }
 ],
 "metadata": {
  "kernelspec": {
   "display_name": "Python 3 (ipykernel)",
   "language": "python",
   "name": "python3"
  },
  "language_info": {
   "codemirror_mode": {
    "name": "ipython",
    "version": 3
   },
   "file_extension": ".py",
   "mimetype": "text/x-python",
   "name": "python",
   "nbconvert_exporter": "python",
   "pygments_lexer": "ipython3",
   "version": "3.11.5"
  }
 },
 "nbformat": 4,
 "nbformat_minor": 2
}
