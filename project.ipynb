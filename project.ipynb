{
 "cells": [
  {
   "cell_type": "markdown",
   "metadata": {},
   "source": [
    "# Happiness/GDP/Alcohol vs. Population Analysis"
   ]
  },
  {
   "cell_type": "markdown",
   "metadata": {},
   "source": [
    "## Library Imports"
   ]
  },
  {
   "cell_type": "code",
   "execution_count": null,
   "metadata": {},
   "outputs": [],
   "source": [
    "#import dependencies \n",
    "from matplotlib import pyplot as plt\n",
    "from scipy import stats\n",
    "import numpy as np\n",
    "import pandas as pd\n",
    "from scipy.stats import linregress"
   ]
  },
  {
   "cell_type": "markdown",
   "metadata": {},
   "source": [
    "## Importing Happiness, GDP, and Alcohol Consumption Information"
   ]
  },
  {
   "cell_type": "code",
   "execution_count": null,
   "metadata": {},
   "outputs": [],
   "source": [
    "data_df=pd.read_csv(\"Data/HappinessAlcoholConsumption.csv\")\n",
    "data_df.head()"
   ]
  },
  {
   "cell_type": "markdown",
   "metadata": {},
   "source": [
    "## Dataframe Information\n",
    "We use this section to look at the information this dataframe holds as well as clean it before use."
   ]
  },
  {
   "cell_type": "code",
   "execution_count": null,
   "metadata": {},
   "outputs": [],
   "source": [
    "data_df = data_df.dropna()\n",
    "\n",
    "data_df.dtypes"
   ]
  },
  {
   "cell_type": "markdown",
   "metadata": {},
   "source": [
    "While doing an initial analysis, we noticed that the GDP_PerCapita didn't match what we were seeing elsewhere. There were many countries that had a smaller GDP Per Capita, by a factor of 1000. We realized from our data source, that the data source may have come from somewhere outside of the US where periods are used instead of commas as the thousands separator. Looking at the initial data source, we saw that the other rows did not have a decimal in its value, which further led us to believe that we had an issue with the thousands separator. We found those rows below, multiplied the GDP_PerCapita by 1000 for those having the period and not the others."
   ]
  },
  {
   "cell_type": "code",
   "execution_count": null,
   "metadata": {},
   "outputs": [],
   "source": [
    "+data_df.loc[\n",
    "    data_df[\"GDP_PerCapita\"] % 1 > 0, :\n",
    "].head()"
   ]
  },
  {
   "cell_type": "code",
   "execution_count": null,
   "metadata": {},
   "outputs": [],
   "source": [
    "for index, row in data_df.iterrows():\n",
    "    if row[\"GDP_PerCapita\"] % 1 > 0:\n",
    "        data_df.loc[index, \"GDP_PerCapita\"] = int(1000 * row[\"GDP_PerCapita\"])\n",
    "        \n",
    "data_df.head()"
   ]
  },
  {
   "cell_type": "markdown",
   "metadata": {},
   "source": [
    "We can see that there are no other rows with incorrect GDP_PerCapita data."
   ]
  },
  {
   "cell_type": "code",
   "execution_count": null,
   "metadata": {},
   "outputs": [],
   "source": [
    "data_df.loc[\n",
    "    data_df[\"GDP_PerCapita\"] % 1 > 0, :\n",
    "].head()"
   ]
  },
  {
   "cell_type": "code",
   "execution_count": null,
   "metadata": {},
   "outputs": [],
   "source": [
    "#shape of dataframe\n",
    "data_df.shape"
   ]
  },
  {
   "cell_type": "code",
   "execution_count": null,
   "metadata": {},
   "outputs": [],
   "source": [
    "#unique hemispheres and their counts\n",
    "data_df.groupby(\"Hemisphere\").count()[\"Country\"]"
   ]
  },
  {
   "cell_type": "markdown",
   "metadata": {},
   "source": [
    "As you can see above, there is a misprint in the data, that \"noth\" instead of \"north.\" The cells below update the dataframe to fix that issue."
   ]
  },
  {
   "cell_type": "code",
   "execution_count": null,
   "metadata": {},
   "outputs": [],
   "source": [
    "data_df.loc[data_df[\"Hemisphere\"] == 'noth',:]"
   ]
  },
  {
   "cell_type": "code",
   "execution_count": null,
   "metadata": {},
   "outputs": [],
   "source": [
    "for index, row in data_df.iterrows():\n",
    "    if row[\"Hemisphere\"] == \"noth\":\n",
    "        data_df.loc[index, \"Hemisphere\"] = \"north\"\n",
    "\n",
    "data_df.head()"
   ]
  },
  {
   "cell_type": "markdown",
   "metadata": {},
   "source": [
    "As you can see below, there are no more rows with that issue."
   ]
  },
  {
   "cell_type": "code",
   "execution_count": null,
   "metadata": {},
   "outputs": [],
   "source": [
    "data_df.loc[data_df[\"Hemisphere\"] == 'noth',:]"
   ]
  },
  {
   "cell_type": "code",
   "execution_count": null,
   "metadata": {},
   "outputs": [],
   "source": [
    "# The updated Hemisphere values are updating.\n",
    "data_df.groupby(\"Hemisphere\").count()[\"Country\"]"
   ]
  },
  {
   "cell_type": "code",
   "execution_count": null,
   "metadata": {},
   "outputs": [],
   "source": [
    "#unique regions\n",
    "data_df[\"Region\"].unique()"
   ]
  },
  {
   "cell_type": "code",
   "execution_count": null,
   "metadata": {},
   "outputs": [],
   "source": [
    "#unique countries\n",
    "data_df[\"Country\"].unique()"
   ]
  },
  {
   "cell_type": "markdown",
   "metadata": {},
   "source": [
    "## Importing Population Data\n",
    "\n",
    "We want to create the GDP Per Capita per regions, but in order to do so, we need to have the population of each country. We found a dataset that has the population of each country, but while our data set above is from 2016, the closest we could find was 2018 for population. The dataset has other features to it, but we're restricting it to the population for that year."
   ]
  },
  {
   "cell_type": "code",
   "execution_count": null,
   "metadata": {},
   "outputs": [],
   "source": [
    "pop_data = pd.read_csv(\"Data/Population Data/Global Population Trends(2016-2022).csv\")\n",
    "pop_data_2018 = pop_data.loc[pop_data[\"Year\"] == 2018, [\"Country\", \"Total Population\"]]\n",
    "print(pop_data_2018.dtypes)\n",
    "pop_data_2018.head()"
   ]
  },
  {
   "cell_type": "markdown",
   "metadata": {},
   "source": [
    "Above, it is clear that the population is not a number as it is an \"object\" type. This means the values must be turned into numerical values instead. To do this, we remove the commas from the number, then update it to an integer type."
   ]
  },
  {
   "cell_type": "code",
   "execution_count": null,
   "metadata": {},
   "outputs": [],
   "source": [
    "pop_data_2018[\"Total Population\"]=pop_data_2018[\"Total Population\"].str.replace(\",\",\"\")\n",
    "pop_data_2018[\"Total Population\"] = pop_data_2018[\"Total Population\"].astype(\"int64\")\n",
    "pop_data_2018.dtypes"
   ]
  },
  {
   "cell_type": "markdown",
   "metadata": {},
   "source": [
    "Merging the two dataframes together... I opted to use a right join to see all of the countries in the gdp/happiness/alcohol file."
   ]
  },
  {
   "cell_type": "code",
   "execution_count": null,
   "metadata": {
    "scrolled": false
   },
   "outputs": [],
   "source": [
    "merged_data = pop_data_2018.merge(data_df,\n",
    "                                  how = \"right\",\n",
    "                                  left_on = \"Country\",\n",
    "                                  right_on = \"Country\",\n",
    "                                  suffixes = (\"_pop\", \"_data\"),\n",
    "                                  indicator = True\n",
    "                                 )\n",
    "merged_data"
   ]
  },
  {
   "cell_type": "markdown",
   "metadata": {},
   "source": [
    "In the merged file, I wasn't able to show the \"Country\" column for both dataframes, which is what I wanted to find those countries in one file that didn't have a match in the other file. However, I found the \"indicator\" argument within pandas.merge() that allowed me to find those.\n",
    "\n",
    "In the cells below, I plan to programmatically update each dataframe to match the country in the other file with a more appropriate name. I'll show those countries below."
   ]
  },
  {
   "cell_type": "code",
   "execution_count": null,
   "metadata": {},
   "outputs": [],
   "source": [
    "# These are the countries that show in the Happiness / GDP / Alcohol data, but not in Population automatically.\n",
    "# We'll look for them manually in the Population data.\n",
    "missed_countries = merged_data.loc[merged_data[\"_merge\"].isin([\"right_only\"]), \"Country\"].sort_values().unique()\n",
    "missed_countries"
   ]
  },
  {
   "cell_type": "code",
   "execution_count": null,
   "metadata": {
    "scrolled": true
   },
   "outputs": [],
   "source": [
    "pop_data_2018.loc[:,\"Country\"].sort_values().unique()"
   ]
  },
  {
   "cell_type": "markdown",
   "metadata": {},
   "source": [
    "From the two lists, it's easy to see that the following countries in the happiness dataset have the listed names from the happiness / gdp / alcohol data set, what the corresponding name in the population dataset is, and which table it'll be adjusted:\n",
    "\n",
    "| 'Happiness / GDP / Alcohol' Name | Population Name | Where to Fix? |\n",
    "| :------------------------------- | :-------------- | :------------ |\n",
    "| Bosnia and Herzegovina | Bosnia | Left |\n",
    "| Cote d'Ivoire | *Missing* | *N/A* |\n",
    "| Dem. Rep. Congo | Democratic Republic of Congo | Left | \n",
    "| Kyrgyzstan | Kyrgyz Republic | Right |\n",
    "| Macedonia | North Macedonia | Left |\n",
    "| Rep. Congo | Republic of Congo | Left |\n",
    "| Russian Federation | Russia | Left |\n",
    "| Slovakia | Slovak Republic | Right | \n",
    "| Syria | Syrian Arab Republic | Right |\n",
    "| Trinidad and Tobago | Trinidad And Tobago | Right |\n",
    "| United Arab Emirates | UAE | Right |"
   ]
  },
  {
   "cell_type": "code",
   "execution_count": null,
   "metadata": {},
   "outputs": [],
   "source": [
    "left_list = [\n",
    "    \"Bosnia and Herzegovina\", \"Dem. Rep. Congo\", \"Kyrgyzstan\", \"Macedonia\", \"Rep. Congo\",\n",
    "    \"Russian Federation\", \"Slovakia\", \"Syria\", \"Trinidad and Tobago\", \"United Arab Emirates\"\n",
    "]\n",
    "\n",
    "right_list = [\n",
    "    \"Bosnia\", \"Democratic Republic of Congo\", \"Krygyz Republic\", \"North Macedonia\",\n",
    "    \"Republic of Congo\", \"Russia\", \"Slovak Republic\", \"Syrian Arab Republic\",\n",
    "    \"Trinidad And Tobago\", \"UAE\"\n",
    "]\n",
    "\n",
    "fix_list = [\n",
    "    \"L\", \"L\", \"R\", \"L\", \"L\", \"L\", \"R\", \"R\", \"R\", \"R\"\n",
    "]\n",
    "\n",
    "zipped = zip(left_list, right_list, fix_list)\n",
    "\n",
    "for item in zipped:\n",
    "    if item[2] == \"L\":\n",
    "        merged_data.loc[merged_data[\"Country\"] == item[0], \"Country\"] = item[1]\n",
    "    else:\n",
    "        merged_data.loc[merged_data[\"Country\"] == item[1], \"Country\"] = item[0]"
   ]
  },
  {
   "cell_type": "markdown",
   "metadata": {},
   "source": [
    "Dropping the \"_merge\" column"
   ]
  },
  {
   "cell_type": "code",
   "execution_count": null,
   "metadata": {},
   "outputs": [],
   "source": [
    "merged_data = merged_data.drop(columns = \"_merge\")\n",
    "merged_data.head()"
   ]
  },
  {
   "cell_type": "code",
   "execution_count": null,
   "metadata": {},
   "outputs": [],
   "source": [
    "merged_data.dtypes"
   ]
  },
  {
   "cell_type": "code",
   "execution_count": null,
   "metadata": {},
   "outputs": [],
   "source": [
    "merged_data_complete = merged_data.copy()\n",
    "\n",
    "merged_data_complete[\"GDP\"] = merged_data_complete[\"Total Population\"] * merged_data_complete[\"GDP_PerCapita\"]\n",
    "merged_data_complete[\"Beer\"] = merged_data_complete[\"Total Population\"] * merged_data_complete[\"Beer_PerCapita\"]\n",
    "merged_data_complete[\"Spirit\"] = merged_data_complete[\"Total Population\"] * merged_data_complete[\"Spirit_PerCapita\"]\n",
    "merged_data_complete[\"Wine\"] = merged_data_complete[\"Total Population\"] * merged_data_complete[\"Wine_PerCapita\"]\n",
    "\n",
    "merged_data_complete"
   ]
  },
  {
   "cell_type": "code",
   "execution_count": null,
   "metadata": {},
   "outputs": [],
   "source": [
    "region_data = merged_data_complete.groupby([\"Region\"])\n",
    "per_capita_data = region_data[[\"Total Population\", \"GDP\",\"Beer\", \"Spirit\", \"Wine\"]].sum()\n",
    "\n",
    "per_capita_data[\"GDP_per\"] = per_capita_data[\"GDP\"] / per_capita_data[\"Total Population\"]\n",
    "per_capita_data[\"Beer_per\"] = per_capita_data[\"Beer\"] / per_capita_data[\"Total Population\"]\n",
    "per_capita_data[\"Spirit_per\"] = per_capita_data[\"Spirit\"] / per_capita_data[\"Total Population\"]\n",
    "per_capita_data[\"Wine_per\"] = per_capita_data[\"Wine\"] / per_capita_data[\"Total Population\"]\n",
    "\n",
    "per_capita_data"
   ]
  },
  {
   "cell_type": "code",
   "execution_count": null,
   "metadata": {
    "scrolled": false
   },
   "outputs": [],
   "source": [
    "per_capita_data_copy = per_capita_data.copy()\n",
    "\n",
    "per_capita_data_copy = per_capita_data_copy.reset_index()\n",
    "\n",
    "per_capita_data_copy[[\"Region\", \"Beer_per\", \"Spirit_per\", \"Wine_per\"]]\\\n",
    "    .plot.bar(x = \"Region\",\n",
    "              stacked = True,\n",
    "              title = \"Total Alcohol Consumption By Region\",\n",
    "              color = [\"goldenrod\", \"darkred\", \"slategray\"],\n",
    "              #figsize = (10, 8)\n",
    "             )\n",
    "plt.tight_layout()\n",
    "plt.grid(axis = \"y\")\n",
    "\n",
    "plt.savefig(\"output_data/Total Alcohol Consumption By Region.png\")\n",
    "plt.show()"
   ]
  },
  {
   "cell_type": "markdown",
   "metadata": {},
   "source": [
    "## GDP Analysis\n",
    "first by regional averages, then by country"
   ]
  },
  {
   "cell_type": "code",
   "execution_count": null,
   "metadata": {},
   "outputs": [],
   "source": [
    "#Analysing GDP\n",
    "gdp_df=data_df[[\"Country\",\"Region\",\"GDP_PerCapita\"]].copy()\n",
    "gdp_df"
   ]
  },
  {
   "cell_type": "code",
   "execution_count": null,
   "metadata": {},
   "outputs": [],
   "source": [
    "#Average GDP by Region\n",
    "#***** need to adjust GDP per capita to just GDP (mult by pop of each country) before taking average\n",
    "plt.figure(figsize=(15, 6))\n",
    "gdp_df.groupby('Region')['GDP_PerCapita'].mean().plot(kind='bar', color='lightblue')\n",
    "plt.title('Average GDP Per Capita by Region', fontsize=20)\n",
    "plt.xlabel('Region')\n",
    "plt.ylabel('GDP Per Capita')\n",
    "plt.xticks(rotation=90)\n",
    "plt.show()"
   ]
  },
  {
   "cell_type": "code",
   "execution_count": null,
   "metadata": {},
   "outputs": [],
   "source": [
    "#chart for GDP by Region\n",
    "gdp=gdp_df[\"GDP_PerCapita\"]\n",
    "region=gdp_df[\"Region\"]\n",
    "\n",
    "plt.bar(region,gdp,color=\"r\",alpha=0.5,align=\"center\")\n",
    "tick_loactions=[value for value in region]\n",
    "plt.xticks(tick_loactions,region,rotation=90)\n",
    "\n",
    "plt.title(\"GDP by Region\")\n",
    "plt.xlabel(\"Region\")\n",
    "plt.ylabel(\"GDP Per Capita\")\n"
   ]
  },
  {
   "cell_type": "code",
   "execution_count": null,
   "metadata": {},
   "outputs": [],
   "source": [
    "#top 20 GDP countries\n",
    "gdp=gdp_df.sort_values([\"GDP_PerCapita\"],ascending=False)\n",
    "gdp.head(25)"
   ]
  },
  {
   "cell_type": "code",
   "execution_count": null,
   "metadata": {},
   "outputs": [],
   "source": [
    "#chart top 25 countries by GDP\n",
    "gdp=gdp_df[\"GDP_PerCapita\"]\n",
    "country=gdp_df[\"Country\"]\n",
    "\n",
    "plt.figure(figsize=(15, 10))\n",
    "top_25_countries = gdp_df.nlargest(25, 'GDP_PerCapita')\n",
    "top_25_countries.plot(kind='barh', x='Country', y='GDP_PerCapita', color='lightblue', legend=False)\n",
    "plt.title('GDP Per Capita of Top 25 Countries', fontsize=20)\n",
    "plt.xlabel('GDP Per Capita')\n",
    "plt.ylabel('Country')\n",
    "plt.show()\n"
   ]
  },
  {
   "cell_type": "code",
   "execution_count": null,
   "metadata": {},
   "outputs": [],
   "source": [
    "#bottom 20 GDP countries\n",
    "gdp=gdp_df.sort_values([\"GDP_PerCapita\"],ascending=True)\n",
    "gdp.head(25)"
   ]
  },
  {
   "cell_type": "code",
   "execution_count": null,
   "metadata": {},
   "outputs": [],
   "source": [
    "#Bottom 25 countries by GDP\n",
    "plt.figure(figsize=(15, 10))\n",
    "smallest_25_countries = gdp_df.nsmallest(25, 'GDP_PerCapita')\n",
    "smallest_25_countries.plot(kind='barh', x='Country', y='GDP_PerCapita', color='lightcoral', legend=False)\n",
    "plt.title('Lowest GDP Per Capita of 25 Countries', fontsize=20)\n",
    "plt.xlabel('GDP Per Capita')\n",
    "plt.ylabel('Country')\n",
    "plt.show()"
   ]
  },
  {
   "cell_type": "markdown",
   "metadata": {},
   "source": [
    "## Human Deveolpment Index (HDI)\n",
    "first by regional averages, then by country"
   ]
  },
  {
   "cell_type": "code",
   "execution_count": null,
   "metadata": {},
   "outputs": [],
   "source": [
    "#Analysing for HDI by Region\n",
    "hdi_df=data_df[[\"Country\",\"Region\",\"HDI\"]].copy()\n",
    "hdi_df"
   ]
  },
  {
   "cell_type": "code",
   "execution_count": null,
   "metadata": {},
   "outputs": [],
   "source": [
    "#average HDI per region\n",
    "plt.figure(figsize=(15, 6))\n",
    "hdi_df.groupby('Region')['HDI'].mean().plot(kind='bar', color='lightblue')\n",
    "plt.title('Average HDI by Region', fontsize=20)\n",
    "plt.xlabel('Region')\n",
    "plt.ylabel('Human Development Index')\n",
    "plt.xticks(rotation=90)\n",
    "plt.show()"
   ]
  },
  {
   "cell_type": "code",
   "execution_count": null,
   "metadata": {},
   "outputs": [],
   "source": [
    "#HDI per region\n",
    "hdi=hdi_df[\"HDI\"]\n",
    "region=gdp_df[\"Region\"]\n",
    "\n",
    "plt.bar(region,hdi,color=\"r\",alpha=0.5,align=\"center\")\n",
    "tick_loactions=[value for value in region]\n",
    "plt.xticks(tick_loactions,region,rotation=90)\n",
    "\n",
    "plt.title(\"HDI by Region\")\n",
    "plt.xlabel(\"Region\")\n",
    "plt.ylabel(\"Human Development Index\")"
   ]
  },
  {
   "cell_type": "code",
   "execution_count": null,
   "metadata": {},
   "outputs": [],
   "source": [
    "#Top 25 HDI Countries\n",
    "hdi=hdi_df.sort_values([\"HDI\"],ascending=False)\n",
    "hdi.head(25)"
   ]
  },
  {
   "cell_type": "code",
   "execution_count": null,
   "metadata": {},
   "outputs": [],
   "source": [
    "#Top 25 HDI Countries Graph\n",
    "hdi=hdi_df[\"HDI\"]\n",
    "country=hdi_df[\"Country\"]\n",
    "\n",
    "plt.figure(figsize=(15, 10))\n",
    "top_25_countries = hdi_df.nlargest(25, 'HDI')\n",
    "top_25_countries.plot(kind='barh', x='Country', y='HDI', color='lightblue', legend=False)\n",
    "plt.title('HDI of Top 25 Countries', fontsize=20)\n",
    "plt.xlabel('Human Development Index')\n",
    "plt.ylabel('Country')\n",
    "plt.show()\n"
   ]
  },
  {
   "cell_type": "code",
   "execution_count": null,
   "metadata": {},
   "outputs": [],
   "source": [
    "#bottom 25 HDI Countries\n",
    "hdi=hdi_df.sort_values([\"HDI\"],ascending=True)\n",
    "hdi.head(25)"
   ]
  },
  {
   "cell_type": "code",
   "execution_count": null,
   "metadata": {},
   "outputs": [],
   "source": [
    "#bottom 25 HDI Countries\n",
    "hdi=hdi_df[\"HDI\"]\n",
    "country=hdi_df[\"Country\"]\n",
    "\n",
    "plt.figure(figsize=(15, 10))\n",
    "top_25_countries = hdi_df.nsmallest(25, 'HDI')\n",
    "top_25_countries.plot(kind='barh', x='Country', y='HDI', color='lightblue', legend=False)\n",
    "plt.title('HDI of Bottom 25 Countries', fontsize=20)\n",
    "plt.xlabel('Human Development Index')\n",
    "plt.ylabel('Country')\n",
    "plt.show()\n"
   ]
  },
  {
   "cell_type": "markdown",
   "metadata": {},
   "source": [
    "## Next Section"
   ]
  },
  {
   "cell_type": "code",
   "execution_count": null,
   "metadata": {},
   "outputs": [],
   "source": [
    "#Happy Places\n",
    "#Happiest places (Top 10)\n",
    "most_happiest_df = data_df.head(10)\n",
    "most_happiest_df = most_happiest_df [[\"Country\",\"HappinessScore\"]]\n",
    "most_happiest_df"
   ]
  },
  {
   "cell_type": "code",
   "execution_count": null,
   "metadata": {},
   "outputs": [],
   "source": [
    "least_happiest_df = data_df.tail(10)\n",
    "least_happiest_df= least_happiest_df [[\"Country\",\"HappinessScore\"]]\n",
    "least_happiest_df"
   ]
  },
  {
   "cell_type": "code",
   "execution_count": null,
   "metadata": {},
   "outputs": [],
   "source": [
    "#Happies Regions (Top 10)HappinessScore\n",
    "happy_region_df = data_df.groupby([\"Region\"])[\"HappinessScore\"].mean()\n",
    "happy_region_df "
   ]
  },
  {
   "cell_type": "code",
   "execution_count": null,
   "metadata": {},
   "outputs": [],
   "source": [
    "#Happies Hemisphere\n",
    "happy_hemisphere_df = data_df.groupby([\"Hemisphere\"])[\"HappinessScore\"].mean()\n",
    "happy_hemisphere_df "
   ]
  },
  {
   "cell_type": "code",
   "execution_count": null,
   "metadata": {},
   "outputs": [],
   "source": [
    "#Happiness Level Visualization\n",
    "#Most top 10 happy country\n",
    "happy=most_happiest_df[\"HappinessScore\"]\n",
    "country=most_happiest_df[\"Country\"]\n",
    "\n",
    "plt.bar(country,happy,color=\"r\",alpha=0.5,align=\"center\")\n",
    "tick_loactions=[value for value in country]\n",
    "plt.xticks(tick_loactions,country,rotation=90)\n",
    "\n",
    "plt.title(\"Top 10 Happy Countries\")\n",
    "plt.xlabel(\"Country\")\n",
    "plt.ylabel(\"Happiness Score\")"
   ]
  },
  {
   "cell_type": "code",
   "execution_count": null,
   "metadata": {},
   "outputs": [],
   "source": [
    "#Happiness Level Visualization\n",
    "#Bottow 10 least happy country\n",
    "happy=least_happiest_df[\"HappinessScore\"]\n",
    "country=least_happiest_df[\"Country\"]\n",
    "\n",
    "plt.bar(country,happy,color=\"r\",alpha=0.5,align=\"center\")\n",
    "tick_loactions=[value for value in country]\n",
    "plt.xticks(tick_loactions,country,rotation=90)\n",
    "\n",
    "plt.title(\"Bottom 10 Least Happy Countries\")\n",
    "plt.xlabel(\"Country\")\n",
    "plt.ylabel(\"Happiness Score\")"
   ]
  },
  {
   "cell_type": "code",
   "execution_count": null,
   "metadata": {},
   "outputs": [],
   "source": [
    "#Happiness level per Region\n",
    "\n",
    "bar_plot = happy_region_df.plot.bar(width=0.7, zorder=3)\n",
    "\n",
    "# Set labels for axes\n",
    "bar_plot.set_xlabel(\"Region\")\n",
    "bar_plot.set_ylabel(\"# Average Happines Score\")\n",
    "bar_plot.set_title(\"Happiness level per Region\")\n",
    "\n",
    "\n",
    "# Create a grid - using 'zorder' places grid behind the bars since we set their z-order higher\n",
    "bar_plot.grid(zorder=0)"
   ]
  },
  {
   "cell_type": "code",
   "execution_count": null,
   "metadata": {},
   "outputs": [],
   "source": [
    "#Happiness level per Hemisphere\\n\",\n",
    "bar_plot = happy_hemisphere_df.plot.bar(width=0.7, zorder=3)\n",
    "# Set labels for axes\\n\",\n",
    "bar_plot.set_xlabel(\"Region\")\n",
    "bar_plot.set_ylabel(\"# Average Happines Score\")\n",
    "bar_plot.set_title(\"Happiness level per Hemisphere\")\n",
    "# Create a grid - using 'zorder' places grid behind the bars since we set their z-order higher\\n\"\n",
    "bar_plot.grid(zorder=0)"
   ]
  },
  {
   "cell_type": "markdown",
   "metadata": {},
   "source": [
    "## Alcohol Consumption and Happiness"
   ]
  },
  {
   "cell_type": "code",
   "execution_count": null,
   "metadata": {},
   "outputs": [],
   "source": [
    "OH_happiness = merged_data_complete[[\"Country\", \"HappinessScore\", \"Beer_PerCapita\", \"Spirit_PerCapita\", \"Wine_PerCapita\"]].copy()\n",
    "len(OH_happiness)"
   ]
  },
  {
   "cell_type": "code",
   "execution_count": null,
   "metadata": {},
   "outputs": [],
   "source": [
    "# function to create create scatter and linear regression plots\n",
    "def lin_regress(x_vals, y_vals, color, x_ann, y_ann):\n",
    "    (slope, intercept, rval, pval, stderr) = linregress(x_vals, y_vals)\n",
    "    #plt.subplots(figsize=(15, 6))\n",
    "    print(f\"The {x_vals.name} r-value is: {rval}\")\n",
    "    regress_vals = x_vals * slope + intercept\n",
    "    line_eq = f\"y = {round(slope,5)} x + {round(intercept,2)}\"\n",
    "    #title = f\"Happiness by {x_label}\"\n",
    "    plt.scatter(x_vals, y_vals, c=color)\n",
    "    plt.plot(x_vals,regress_vals,color)\n",
    "    plt.annotate(line_eq,(x_ann, y_ann),fontsize=15,color=color)\n",
    "    plt.title(f\"Happiness by Beverage Consumption\")\n",
    "    #plt.xlabel(f\"{x_label}\")\n",
    "    plt.xlabel(f\"Beverage Consumption per Capita\")\n",
    "    plt.ylabel(f\"Happiness\")\n",
    "    plt.ylim(0, y_vals.max()+1)\n",
    "    #plt.legend()\n",
    "    plt.savefig(f\"output_data/Happiness by Beverage Consumption.png\")\n",
    "\n"
   ]
  },
  {
   "cell_type": "code",
   "execution_count": null,
   "metadata": {},
   "outputs": [],
   "source": [
    "\n",
    "plt.figure(figsize=(10, 5))\n",
    "beer_scat = lin_regress(OH_happiness[\"Beer_PerCapita\"], OH_happiness[\"HappinessScore\"], \"goldenrod\", 150, 3)\n",
    "wine_scat = lin_regress(OH_happiness[\"Wine_PerCapita\"], OH_happiness[\"HappinessScore\"], \"darkred\", 150, 2)\n",
    "spirit_scat = lin_regress(OH_happiness[\"Spirit_PerCapita\"], OH_happiness[\"HappinessScore\"], \"slategray\", 150, 1)\n",
    "\n",
    "plt.show()"
   ]
  },
  {
   "cell_type": "code",
   "execution_count": null,
   "metadata": {},
   "outputs": [],
   "source": [
    "plt.figure(figsize=(15, 5))\n",
    "\n",
    "all_bevs_scat = lin_regress(\n",
    "    (OH_happiness[\"Beer_PerCapita\"]+OH_happiness[\"Wine_PerCapita\"]+OH_happiness[\"Spirit_PerCapita\"]),\n",
    "    OH_happiness[\"HappinessScore\"], \"green\", 150, 0)"
   ]
  },
  {
   "cell_type": "code",
   "execution_count": null,
   "metadata": {},
   "outputs": [],
   "source": []
  }
 ],
 "metadata": {
  "kernelspec": {
   "display_name": "Python 3 (ipykernel)",
   "language": "python",
   "name": "python3"
  },
  "language_info": {
   "codemirror_mode": {
    "name": "ipython",
    "version": 3
   },
   "file_extension": ".py",
   "mimetype": "text/x-python",
   "name": "python",
   "nbconvert_exporter": "python",
   "pygments_lexer": "ipython3",
   "version": "3.11.5"
  }
 },
 "nbformat": 4,
 "nbformat_minor": 2
}
