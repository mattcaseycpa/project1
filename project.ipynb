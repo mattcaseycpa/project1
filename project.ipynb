{
 "cells": [
  {
   "cell_type": "code",
   "execution_count": 1,
   "metadata": {},
   "outputs": [],
   "source": [
    "#import dependencies \n",
    "from matplotlib import pyplot as plt\n",
    "from scipy import stats\n",
    "import numpy as np\n",
    "import pandas as pd"
   ]
  },
  {
   "cell_type": "code",
   "execution_count": 2,
   "metadata": {},
   "outputs": [
    {
     "data": {
      "text/html": [
       "<div>\n",
       "<style scoped>\n",
       "    .dataframe tbody tr th:only-of-type {\n",
       "        vertical-align: middle;\n",
       "    }\n",
       "\n",
       "    .dataframe tbody tr th {\n",
       "        vertical-align: top;\n",
       "    }\n",
       "\n",
       "    .dataframe thead th {\n",
       "        text-align: right;\n",
       "    }\n",
       "</style>\n",
       "<table border=\"1\" class=\"dataframe\">\n",
       "  <thead>\n",
       "    <tr style=\"text-align: right;\">\n",
       "      <th></th>\n",
       "      <th>Country</th>\n",
       "      <th>Region</th>\n",
       "      <th>Hemisphere</th>\n",
       "      <th>HappinessScore</th>\n",
       "      <th>HDI</th>\n",
       "      <th>GDP_PerCapita</th>\n",
       "      <th>Beer_PerCapita</th>\n",
       "      <th>Spirit_PerCapita</th>\n",
       "      <th>Wine_PerCapita</th>\n",
       "    </tr>\n",
       "  </thead>\n",
       "  <tbody>\n",
       "    <tr>\n",
       "      <th>0</th>\n",
       "      <td>Denmark</td>\n",
       "      <td>Western Europe</td>\n",
       "      <td>north</td>\n",
       "      <td>7.526</td>\n",
       "      <td>928</td>\n",
       "      <td>53.579</td>\n",
       "      <td>224</td>\n",
       "      <td>81</td>\n",
       "      <td>278</td>\n",
       "    </tr>\n",
       "    <tr>\n",
       "      <th>1</th>\n",
       "      <td>Switzerland</td>\n",
       "      <td>Western Europe</td>\n",
       "      <td>north</td>\n",
       "      <td>7.509</td>\n",
       "      <td>943</td>\n",
       "      <td>79.866</td>\n",
       "      <td>185</td>\n",
       "      <td>100</td>\n",
       "      <td>280</td>\n",
       "    </tr>\n",
       "    <tr>\n",
       "      <th>2</th>\n",
       "      <td>Iceland</td>\n",
       "      <td>Western Europe</td>\n",
       "      <td>north</td>\n",
       "      <td>7.501</td>\n",
       "      <td>933</td>\n",
       "      <td>60.530</td>\n",
       "      <td>233</td>\n",
       "      <td>61</td>\n",
       "      <td>78</td>\n",
       "    </tr>\n",
       "    <tr>\n",
       "      <th>3</th>\n",
       "      <td>Norway</td>\n",
       "      <td>Western Europe</td>\n",
       "      <td>north</td>\n",
       "      <td>7.498</td>\n",
       "      <td>951</td>\n",
       "      <td>70.890</td>\n",
       "      <td>169</td>\n",
       "      <td>71</td>\n",
       "      <td>129</td>\n",
       "    </tr>\n",
       "    <tr>\n",
       "      <th>4</th>\n",
       "      <td>Finland</td>\n",
       "      <td>Western Europe</td>\n",
       "      <td>north</td>\n",
       "      <td>7.413</td>\n",
       "      <td>918</td>\n",
       "      <td>43.433</td>\n",
       "      <td>263</td>\n",
       "      <td>133</td>\n",
       "      <td>97</td>\n",
       "    </tr>\n",
       "  </tbody>\n",
       "</table>\n",
       "</div>"
      ],
      "text/plain": [
       "       Country          Region Hemisphere  HappinessScore  HDI  GDP_PerCapita  \\\n",
       "0      Denmark  Western Europe      north           7.526  928         53.579   \n",
       "1  Switzerland  Western Europe      north           7.509  943         79.866   \n",
       "2      Iceland  Western Europe      north           7.501  933         60.530   \n",
       "3       Norway  Western Europe      north           7.498  951         70.890   \n",
       "4      Finland  Western Europe      north           7.413  918         43.433   \n",
       "\n",
       "   Beer_PerCapita  Spirit_PerCapita  Wine_PerCapita  \n",
       "0             224                81             278  \n",
       "1             185               100             280  \n",
       "2             233                61              78  \n",
       "3             169                71             129  \n",
       "4             263               133              97  "
      ]
     },
     "execution_count": 2,
     "metadata": {},
     "output_type": "execute_result"
    }
   ],
   "source": [
    "data_df=pd.read_csv(\"Data/HappinessAlcoholConsumption.csv\")\n",
    "data_df.head()"
   ]
  },
  {
   "cell_type": "markdown",
   "metadata": {},
   "source": [
    "# Dataframe Information\n"
   ]
  },
  {
   "cell_type": "code",
   "execution_count": 3,
   "metadata": {},
   "outputs": [],
   "source": [
    "data_df = data_df.dropna()"
   ]
  },
  {
   "cell_type": "code",
   "execution_count": 4,
   "metadata": {},
   "outputs": [
    {
     "data": {
      "text/plain": [
       "(122, 9)"
      ]
     },
     "execution_count": 4,
     "metadata": {},
     "output_type": "execute_result"
    }
   ],
   "source": [
    "#shape of dataframe\n",
    "data_df.shape"
   ]
  },
  {
   "cell_type": "code",
   "execution_count": 5,
   "metadata": {},
   "outputs": [
    {
     "data": {
      "text/plain": [
       "array(['Western Europe', 'North America', 'Australia and New Zealand',\n",
       "       'Middle East and Northern Africa', 'Latin America and Caribbean',\n",
       "       'Southeastern Asia', 'Central and Eastern Europe', 'Eastern Asia',\n",
       "       'Sub-Saharan Africa'], dtype=object)"
      ]
     },
     "execution_count": 5,
     "metadata": {},
     "output_type": "execute_result"
    }
   ],
   "source": [
    "#unique regions\n",
    "data_df[\"Region\"].unique()"
   ]
  },
  {
   "cell_type": "code",
   "execution_count": 6,
   "metadata": {},
   "outputs": [
    {
     "data": {
      "text/plain": [
       "array(['Denmark', 'Switzerland', 'Iceland', 'Norway', 'Finland', 'Canada',\n",
       "       'Netherlands', 'New Zealand', 'Australia', 'Sweden', 'Israel',\n",
       "       'Austria', 'United States', 'Costa Rica', 'Germany', 'Brazil',\n",
       "       'Belgium', 'Ireland', 'Luxembourg', 'Mexico', 'Singapore',\n",
       "       'United Kingdom', 'Chile', 'Panama', 'Argentina', 'Czech Republic',\n",
       "       'United Arab Emirates', 'Uruguay', 'Malta', 'Colombia', 'France',\n",
       "       'Thailand', 'Qatar', 'Spain', 'Guatemala', 'Suriname', 'Bahrain',\n",
       "       'Trinidad and Tobago', 'Venezuela', 'Slovakia', 'El Salvador',\n",
       "       'Nicaragua', 'Uzbekistan', 'Italy', 'Ecuador', 'Belize', 'Japan',\n",
       "       'Kazakhstan', 'Moldova', 'Russia', 'Poland', 'South Korea',\n",
       "       'Bolivia', 'Lithuania', 'Belarus', 'Slovenia', 'Peru',\n",
       "       'Turkmenistan', 'Mauritius', 'Latvia', 'Cyprus', 'Paraguay',\n",
       "       'Romania', 'Estonia', 'Jamaica', 'Croatia', 'Turkey', 'Jordan',\n",
       "       'Azerbaijan', 'Philippines', 'China', 'Kyrgyzstan', 'Serbia',\n",
       "       'Bosnia and Herzegovina', 'Montenegro', 'Dominican Republic',\n",
       "       'Morocco', 'Hungary', 'Lebanon', 'Portugal', 'North Macedonia',\n",
       "       'Vietnam', 'Tunisia', 'Greece', 'Mongolia', 'Nigeria', 'Honduras',\n",
       "       'Zambia', 'Albania', 'Sierra Leone', 'Namibia', 'Cameroon',\n",
       "       'South Africa', 'Egypt', 'Armenia', 'Kenya', 'Ukraine', 'Ghana',\n",
       "       'Democratic Republic Of Congo', 'Georgia', 'Republic Of Congo',\n",
       "       'Senegal', 'Bulgaria', 'Zimbabwe', 'Malawi', 'Gabon', 'Mali',\n",
       "       'Haiti', 'Botswana', 'Comoros', \"Cote d'Ivoire\", 'Cambodia',\n",
       "       'Angola', 'Niger', 'Chad', 'Burkina Faso', 'Madagascar',\n",
       "       'Tanzania', 'Liberia', 'Benin', 'Togo', 'Syria'], dtype=object)"
      ]
     },
     "execution_count": 6,
     "metadata": {},
     "output_type": "execute_result"
    }
   ],
   "source": [
    "#unique countries\n",
    "data_df[\"Country\"].unique()"
   ]
  },
  {
   "cell_type": "code",
   "execution_count": 7,
   "metadata": {},
   "outputs": [
    {
     "data": {
      "text/plain": [
       "Index(['Country', 'Region', 'Hemisphere', 'HappinessScore', 'HDI',\n",
       "       'GDP_PerCapita', 'Beer_PerCapita', 'Spirit_PerCapita',\n",
       "       'Wine_PerCapita'],\n",
       "      dtype='object')"
      ]
     },
     "execution_count": 7,
     "metadata": {},
     "output_type": "execute_result"
    }
   ],
   "source": [
    "data_df.columns"
   ]
  },
  {
   "cell_type": "markdown",
   "metadata": {},
   "source": [
    "# Importing Population Data\n",
    "for use in averaging GDP per capita"
   ]
  },
  {
   "cell_type": "code",
   "execution_count": 17,
   "metadata": {},
   "outputs": [
    {
     "data": {
      "text/html": [
       "<div>\n",
       "<style scoped>\n",
       "    .dataframe tbody tr th:only-of-type {\n",
       "        vertical-align: middle;\n",
       "    }\n",
       "\n",
       "    .dataframe tbody tr th {\n",
       "        vertical-align: top;\n",
       "    }\n",
       "\n",
       "    .dataframe thead th {\n",
       "        text-align: right;\n",
       "    }\n",
       "</style>\n",
       "<table border=\"1\" class=\"dataframe\">\n",
       "  <thead>\n",
       "    <tr style=\"text-align: right;\">\n",
       "      <th></th>\n",
       "      <th>Country</th>\n",
       "      <th>Total Population</th>\n",
       "    </tr>\n",
       "  </thead>\n",
       "  <tbody>\n",
       "    <tr>\n",
       "      <th>1</th>\n",
       "      <td>Afghanistan</td>\n",
       "      <td>36,686,784</td>\n",
       "    </tr>\n",
       "    <tr>\n",
       "      <th>6</th>\n",
       "      <td>Albania</td>\n",
       "      <td>2,866,376</td>\n",
       "    </tr>\n",
       "    <tr>\n",
       "      <th>11</th>\n",
       "      <td>Algeria</td>\n",
       "      <td>41,927,007</td>\n",
       "    </tr>\n",
       "    <tr>\n",
       "      <th>15</th>\n",
       "      <td>American Samoa</td>\n",
       "      <td>48,424</td>\n",
       "    </tr>\n",
       "    <tr>\n",
       "      <th>19</th>\n",
       "      <td>Andorra</td>\n",
       "      <td>75,013</td>\n",
       "    </tr>\n",
       "  </tbody>\n",
       "</table>\n",
       "</div>"
      ],
      "text/plain": [
       "           Country Total Population\n",
       "1      Afghanistan       36,686,784\n",
       "6          Albania        2,866,376\n",
       "11         Algeria       41,927,007\n",
       "15  American Samoa           48,424\n",
       "19         Andorra           75,013"
      ]
     },
     "execution_count": 17,
     "metadata": {},
     "output_type": "execute_result"
    }
   ],
   "source": [
    "pop_data = pd.read_csv(\"Data/Population Data/Global Population Trends(2016-2022).csv\")\n",
    "pop_data_2018 = pop_data.loc[pop_data[\"Year\"] == 2018, [\"Country\", \"Total Population\"]]\n",
    "pop_data_2018.head()"
   ]
  },
  {
   "cell_type": "code",
   "execution_count": 21,
   "metadata": {},
   "outputs": [
    {
     "data": {
      "text/plain": [
       "Country             object\n",
       "Total Population     int32\n",
       "dtype: object"
      ]
     },
     "execution_count": 21,
     "metadata": {},
     "output_type": "execute_result"
    }
   ],
   "source": [
    "pop_data_2018[\"Total Population\"]=pop_data_2018[\"Total Population\"].str.replace(\",\",\"\")\n",
    "pop_data_2018[\"Total Population\"] = pop_data_2018[\"Total Population\"].astype(\"int\")\n",
    "pop_data_2018.dtypes"
   ]
  },
  {
   "cell_type": "markdown",
   "metadata": {},
   "source": [
    "For both datasets, I looked to see which countries showed up in both datasets, but with different names, e.g. \"Republic of Congo\" in one set was called \"Rep. Congo\" in the other. I updated the naming to be consistent in both files to ensure the inner join below would guarantee the maximum number of countries upon joining."
   ]
  },
  {
   "cell_type": "code",
   "execution_count": 22,
   "metadata": {
    "scrolled": false
   },
   "outputs": [
    {
     "data": {
      "text/html": [
       "<div>\n",
       "<style scoped>\n",
       "    .dataframe tbody tr th:only-of-type {\n",
       "        vertical-align: middle;\n",
       "    }\n",
       "\n",
       "    .dataframe tbody tr th {\n",
       "        vertical-align: top;\n",
       "    }\n",
       "\n",
       "    .dataframe thead th {\n",
       "        text-align: right;\n",
       "    }\n",
       "</style>\n",
       "<table border=\"1\" class=\"dataframe\">\n",
       "  <thead>\n",
       "    <tr style=\"text-align: right;\">\n",
       "      <th></th>\n",
       "      <th>Country</th>\n",
       "      <th>Total Population</th>\n",
       "      <th>Region</th>\n",
       "      <th>Hemisphere</th>\n",
       "      <th>HappinessScore</th>\n",
       "      <th>HDI</th>\n",
       "      <th>GDP_PerCapita</th>\n",
       "      <th>Beer_PerCapita</th>\n",
       "      <th>Spirit_PerCapita</th>\n",
       "      <th>Wine_PerCapita</th>\n",
       "    </tr>\n",
       "  </thead>\n",
       "  <tbody>\n",
       "    <tr>\n",
       "      <th>0</th>\n",
       "      <td>Albania</td>\n",
       "      <td>2866376</td>\n",
       "      <td>Central and Eastern Europe</td>\n",
       "      <td>north</td>\n",
       "      <td>4.655</td>\n",
       "      <td>782</td>\n",
       "      <td>4.132</td>\n",
       "      <td>89</td>\n",
       "      <td>132</td>\n",
       "      <td>54</td>\n",
       "    </tr>\n",
       "    <tr>\n",
       "      <th>1</th>\n",
       "      <td>Angola</td>\n",
       "      <td>31273533</td>\n",
       "      <td>Sub-Saharan Africa</td>\n",
       "      <td>south</td>\n",
       "      <td>3.866</td>\n",
       "      <td>577</td>\n",
       "      <td>3.309</td>\n",
       "      <td>217</td>\n",
       "      <td>57</td>\n",
       "      <td>45</td>\n",
       "    </tr>\n",
       "    <tr>\n",
       "      <th>2</th>\n",
       "      <td>Argentina</td>\n",
       "      <td>44494502</td>\n",
       "      <td>Latin America and Caribbean</td>\n",
       "      <td>south</td>\n",
       "      <td>6.650</td>\n",
       "      <td>822</td>\n",
       "      <td>12.654</td>\n",
       "      <td>193</td>\n",
       "      <td>25</td>\n",
       "      <td>221</td>\n",
       "    </tr>\n",
       "    <tr>\n",
       "      <th>3</th>\n",
       "      <td>Armenia</td>\n",
       "      <td>2836557</td>\n",
       "      <td>Central and Eastern Europe</td>\n",
       "      <td>north</td>\n",
       "      <td>4.360</td>\n",
       "      <td>749</td>\n",
       "      <td>3.606</td>\n",
       "      <td>21</td>\n",
       "      <td>179</td>\n",
       "      <td>11</td>\n",
       "    </tr>\n",
       "    <tr>\n",
       "      <th>4</th>\n",
       "      <td>Australia</td>\n",
       "      <td>24966643</td>\n",
       "      <td>Australia and New Zealand</td>\n",
       "      <td>south</td>\n",
       "      <td>7.313</td>\n",
       "      <td>938</td>\n",
       "      <td>49.897</td>\n",
       "      <td>261</td>\n",
       "      <td>72</td>\n",
       "      <td>212</td>\n",
       "    </tr>\n",
       "    <tr>\n",
       "      <th>...</th>\n",
       "      <td>...</td>\n",
       "      <td>...</td>\n",
       "      <td>...</td>\n",
       "      <td>...</td>\n",
       "      <td>...</td>\n",
       "      <td>...</td>\n",
       "      <td>...</td>\n",
       "      <td>...</td>\n",
       "      <td>...</td>\n",
       "      <td>...</td>\n",
       "    </tr>\n",
       "    <tr>\n",
       "      <th>116</th>\n",
       "      <td>Uzbekistan</td>\n",
       "      <td>32956100</td>\n",
       "      <td>Central and Eastern Europe</td>\n",
       "      <td>north</td>\n",
       "      <td>5.987</td>\n",
       "      <td>703</td>\n",
       "      <td>2.106</td>\n",
       "      <td>25</td>\n",
       "      <td>101</td>\n",
       "      <td>8</td>\n",
       "    </tr>\n",
       "    <tr>\n",
       "      <th>117</th>\n",
       "      <td>Venezuela</td>\n",
       "      <td>29825653</td>\n",
       "      <td>Latin America and Caribbean</td>\n",
       "      <td>north</td>\n",
       "      <td>6.084</td>\n",
       "      <td>766</td>\n",
       "      <td>15.692</td>\n",
       "      <td>333</td>\n",
       "      <td>100</td>\n",
       "      <td>3</td>\n",
       "    </tr>\n",
       "    <tr>\n",
       "      <th>118</th>\n",
       "      <td>Vietnam</td>\n",
       "      <td>94914330</td>\n",
       "      <td>Southeastern Asia</td>\n",
       "      <td>north</td>\n",
       "      <td>5.061</td>\n",
       "      <td>689</td>\n",
       "      <td>2.171</td>\n",
       "      <td>111</td>\n",
       "      <td>2</td>\n",
       "      <td>1</td>\n",
       "    </tr>\n",
       "    <tr>\n",
       "      <th>119</th>\n",
       "      <td>Zambia</td>\n",
       "      <td>17835893</td>\n",
       "      <td>Sub-Saharan Africa</td>\n",
       "      <td>south</td>\n",
       "      <td>4.795</td>\n",
       "      <td>586</td>\n",
       "      <td>1.263</td>\n",
       "      <td>32</td>\n",
       "      <td>19</td>\n",
       "      <td>4</td>\n",
       "    </tr>\n",
       "    <tr>\n",
       "      <th>120</th>\n",
       "      <td>Zimbabwe</td>\n",
       "      <td>15052184</td>\n",
       "      <td>Sub-Saharan Africa</td>\n",
       "      <td>south</td>\n",
       "      <td>4.193</td>\n",
       "      <td>532</td>\n",
       "      <td>1.029</td>\n",
       "      <td>64</td>\n",
       "      <td>18</td>\n",
       "      <td>4</td>\n",
       "    </tr>\n",
       "  </tbody>\n",
       "</table>\n",
       "<p>121 rows × 10 columns</p>\n",
       "</div>"
      ],
      "text/plain": [
       "        Country  Total Population                       Region Hemisphere  \\\n",
       "0       Albania           2866376   Central and Eastern Europe      north   \n",
       "1        Angola          31273533           Sub-Saharan Africa      south   \n",
       "2     Argentina          44494502  Latin America and Caribbean      south   \n",
       "3       Armenia           2836557   Central and Eastern Europe      north   \n",
       "4     Australia          24966643    Australia and New Zealand      south   \n",
       "..          ...               ...                          ...        ...   \n",
       "116  Uzbekistan          32956100   Central and Eastern Europe      north   \n",
       "117   Venezuela          29825653  Latin America and Caribbean      north   \n",
       "118     Vietnam          94914330            Southeastern Asia      north   \n",
       "119      Zambia          17835893           Sub-Saharan Africa      south   \n",
       "120    Zimbabwe          15052184           Sub-Saharan Africa      south   \n",
       "\n",
       "     HappinessScore  HDI  GDP_PerCapita  Beer_PerCapita  Spirit_PerCapita  \\\n",
       "0             4.655  782          4.132              89               132   \n",
       "1             3.866  577          3.309             217                57   \n",
       "2             6.650  822         12.654             193                25   \n",
       "3             4.360  749          3.606              21               179   \n",
       "4             7.313  938         49.897             261                72   \n",
       "..              ...  ...            ...             ...               ...   \n",
       "116           5.987  703          2.106              25               101   \n",
       "117           6.084  766         15.692             333               100   \n",
       "118           5.061  689          2.171             111                 2   \n",
       "119           4.795  586          1.263              32                19   \n",
       "120           4.193  532          1.029              64                18   \n",
       "\n",
       "     Wine_PerCapita  \n",
       "0                54  \n",
       "1                45  \n",
       "2               221  \n",
       "3                11  \n",
       "4               212  \n",
       "..              ...  \n",
       "116               8  \n",
       "117               3  \n",
       "118               1  \n",
       "119               4  \n",
       "120               4  \n",
       "\n",
       "[121 rows x 10 columns]"
      ]
     },
     "execution_count": 22,
     "metadata": {},
     "output_type": "execute_result"
    }
   ],
   "source": [
    "merged_data = pd.merge(pop_data_2018, data_df, how = \"inner\", left_on = \"Country\", right_on = \"Country\")\n",
    "merged_data"
   ]
  },
  {
   "cell_type": "code",
   "execution_count": 23,
   "metadata": {},
   "outputs": [
    {
     "data": {
      "text/plain": [
       "Country              object\n",
       "Total Population      int32\n",
       "Region               object\n",
       "Hemisphere           object\n",
       "HappinessScore      float64\n",
       "HDI                   int64\n",
       "GDP_PerCapita       float64\n",
       "Beer_PerCapita        int64\n",
       "Spirit_PerCapita      int64\n",
       "Wine_PerCapita        int64\n",
       "dtype: object"
      ]
     },
     "execution_count": 23,
     "metadata": {},
     "output_type": "execute_result"
    }
   ],
   "source": [
    "merged_data.dtypes"
   ]
  },
  {
   "cell_type": "code",
   "execution_count": null,
   "metadata": {},
   "outputs": [],
   "source": []
  },
  {
   "cell_type": "code",
   "execution_count": 30,
   "metadata": {},
   "outputs": [
    {
     "data": {
      "text/html": [
       "<div>\n",
       "<style scoped>\n",
       "    .dataframe tbody tr th:only-of-type {\n",
       "        vertical-align: middle;\n",
       "    }\n",
       "\n",
       "    .dataframe tbody tr th {\n",
       "        vertical-align: top;\n",
       "    }\n",
       "\n",
       "    .dataframe thead th {\n",
       "        text-align: right;\n",
       "    }\n",
       "</style>\n",
       "<table border=\"1\" class=\"dataframe\">\n",
       "  <thead>\n",
       "    <tr style=\"text-align: right;\">\n",
       "      <th></th>\n",
       "      <th>Country</th>\n",
       "      <th>Total Population</th>\n",
       "      <th>Region</th>\n",
       "      <th>Hemisphere</th>\n",
       "      <th>HappinessScore</th>\n",
       "      <th>HDI</th>\n",
       "      <th>GDP_PerCapita</th>\n",
       "      <th>Beer_PerCapita</th>\n",
       "      <th>Spirit_PerCapita</th>\n",
       "      <th>Wine_PerCapita</th>\n",
       "      <th>GDP</th>\n",
       "      <th>Beer</th>\n",
       "      <th>Spirit</th>\n",
       "      <th>Wine</th>\n",
       "    </tr>\n",
       "  </thead>\n",
       "  <tbody>\n",
       "    <tr>\n",
       "      <th>0</th>\n",
       "      <td>Albania</td>\n",
       "      <td>2866376</td>\n",
       "      <td>Central and Eastern Europe</td>\n",
       "      <td>north</td>\n",
       "      <td>4.655</td>\n",
       "      <td>782</td>\n",
       "      <td>4.132</td>\n",
       "      <td>89</td>\n",
       "      <td>132</td>\n",
       "      <td>54</td>\n",
       "      <td>1.184387e+07</td>\n",
       "      <td>255107464</td>\n",
       "      <td>378361632</td>\n",
       "      <td>154784304</td>\n",
       "    </tr>\n",
       "    <tr>\n",
       "      <th>1</th>\n",
       "      <td>Angola</td>\n",
       "      <td>31273533</td>\n",
       "      <td>Sub-Saharan Africa</td>\n",
       "      <td>south</td>\n",
       "      <td>3.866</td>\n",
       "      <td>577</td>\n",
       "      <td>3.309</td>\n",
       "      <td>217</td>\n",
       "      <td>57</td>\n",
       "      <td>45</td>\n",
       "      <td>1.034841e+08</td>\n",
       "      <td>6786356661</td>\n",
       "      <td>1782591381</td>\n",
       "      <td>1407308985</td>\n",
       "    </tr>\n",
       "    <tr>\n",
       "      <th>2</th>\n",
       "      <td>Argentina</td>\n",
       "      <td>44494502</td>\n",
       "      <td>Latin America and Caribbean</td>\n",
       "      <td>south</td>\n",
       "      <td>6.650</td>\n",
       "      <td>822</td>\n",
       "      <td>12.654</td>\n",
       "      <td>193</td>\n",
       "      <td>25</td>\n",
       "      <td>221</td>\n",
       "      <td>5.630334e+08</td>\n",
       "      <td>8587438886</td>\n",
       "      <td>1112362550</td>\n",
       "      <td>9833284942</td>\n",
       "    </tr>\n",
       "    <tr>\n",
       "      <th>3</th>\n",
       "      <td>Armenia</td>\n",
       "      <td>2836557</td>\n",
       "      <td>Central and Eastern Europe</td>\n",
       "      <td>north</td>\n",
       "      <td>4.360</td>\n",
       "      <td>749</td>\n",
       "      <td>3.606</td>\n",
       "      <td>21</td>\n",
       "      <td>179</td>\n",
       "      <td>11</td>\n",
       "      <td>1.022862e+07</td>\n",
       "      <td>59567697</td>\n",
       "      <td>507743703</td>\n",
       "      <td>31202127</td>\n",
       "    </tr>\n",
       "    <tr>\n",
       "      <th>4</th>\n",
       "      <td>Australia</td>\n",
       "      <td>24966643</td>\n",
       "      <td>Australia and New Zealand</td>\n",
       "      <td>south</td>\n",
       "      <td>7.313</td>\n",
       "      <td>938</td>\n",
       "      <td>49.897</td>\n",
       "      <td>261</td>\n",
       "      <td>72</td>\n",
       "      <td>212</td>\n",
       "      <td>1.245761e+09</td>\n",
       "      <td>6516293823</td>\n",
       "      <td>1797598296</td>\n",
       "      <td>5292928316</td>\n",
       "    </tr>\n",
       "  </tbody>\n",
       "</table>\n",
       "</div>"
      ],
      "text/plain": [
       "     Country  Total Population                       Region Hemisphere  \\\n",
       "0    Albania           2866376   Central and Eastern Europe      north   \n",
       "1     Angola          31273533           Sub-Saharan Africa      south   \n",
       "2  Argentina          44494502  Latin America and Caribbean      south   \n",
       "3    Armenia           2836557   Central and Eastern Europe      north   \n",
       "4  Australia          24966643    Australia and New Zealand      south   \n",
       "\n",
       "   HappinessScore  HDI  GDP_PerCapita  Beer_PerCapita  Spirit_PerCapita  \\\n",
       "0           4.655  782          4.132              89               132   \n",
       "1           3.866  577          3.309             217                57   \n",
       "2           6.650  822         12.654             193                25   \n",
       "3           4.360  749          3.606              21               179   \n",
       "4           7.313  938         49.897             261                72   \n",
       "\n",
       "   Wine_PerCapita           GDP        Beer      Spirit        Wine  \n",
       "0              54  1.184387e+07   255107464   378361632   154784304  \n",
       "1              45  1.034841e+08  6786356661  1782591381  1407308985  \n",
       "2             221  5.630334e+08  8587438886  1112362550  9833284942  \n",
       "3              11  1.022862e+07    59567697   507743703    31202127  \n",
       "4             212  1.245761e+09  6516293823  1797598296  5292928316  "
      ]
     },
     "execution_count": 30,
     "metadata": {},
     "output_type": "execute_result"
    }
   ],
   "source": [
    "merged_data_complete = merged_data.copy()\n",
    "\n",
    "merged_data_complete[\"GDP\"] = merged_data_complete[\"Total Population\"] * merged_data_complete[\"GDP_PerCapita\"]\n",
    "merged_data_complete[\"Beer\"] = merged_data_complete[\"Total Population\"] * merged_data_complete[\"Beer_PerCapita\"]\n",
    "merged_data_complete[\"Spirit\"] = merged_data_complete[\"Total Population\"] * merged_data_complete[\"Spirit_PerCapita\"]\n",
    "merged_data_complete[\"Wine\"] = merged_data_complete[\"Total Population\"] * merged_data_complete[\"Wine_PerCapita\"]\n",
    "\n",
    "merged_data_complete.head()"
   ]
  },
  {
   "cell_type": "code",
   "execution_count": 38,
   "metadata": {},
   "outputs": [],
   "source": [
    "region_data = merged_data_complete.groupby([\"Region\"])\n",
    "per_capita_data = region_data[[\"Total Population\", \"GDP\",\"Beer\", \"Spirit\", \"Wine\"]].sum()\n",
    "\n",
    "per_capita_data.loc[:, [\"GDP_per\", \"Beer_per\", \"Spirit_per\", \"Wine_per\"]] = per_capita_data.loc[:,[\"GDP\", \"Beer\", \"Spirit\", \"Wine\"]] /\\\n",
    "    per_capita_data[\"Total Population\"]"
   ]
  },
  {
   "cell_type": "markdown",
   "metadata": {},
   "source": [
    "# GDP Analysis\n",
    "first by regional averages, then by country"
   ]
  },
  {
   "cell_type": "code",
   "execution_count": null,
   "metadata": {},
   "outputs": [],
   "source": [
    "#Analysing GDP\n",
    "gdp_df=data_df[[\"Country\",\"Region\",\"GDP_PerCapita\"]].copy()\n",
    "gdp_df"
   ]
  },
  {
   "cell_type": "code",
   "execution_count": null,
   "metadata": {},
   "outputs": [],
   "source": [
    "#Average GDP by Region\n",
    "#***** need to adjust GDP per capita to just GDP (mult by pop of each country) before taking average\n",
    "plt.figure(figsize=(15, 6))\n",
    "gdp_df.groupby('Region')['GDP_PerCapita'].mean().plot(kind='bar', color='lightblue')\n",
    "plt.title('Average GDP Per Capita by Region', fontsize=20)\n",
    "plt.xlabel('Region')\n",
    "plt.ylabel('GDP Per Capita')\n",
    "plt.xticks(rotation=90)\n",
    "plt.show()"
   ]
  },
  {
   "cell_type": "code",
   "execution_count": null,
   "metadata": {},
   "outputs": [],
   "source": [
    "#chart for GDP by Region\n",
    "gdp=gdp_df[\"GDP_PerCapita\"]\n",
    "region=gdp_df[\"Region\"]\n",
    "\n",
    "plt.bar(region,gdp,color=\"r\",alpha=0.5,align=\"center\")\n",
    "tick_loactions=[value for value in region]\n",
    "plt.xticks(tick_loactions,region,rotation=90)\n",
    "\n",
    "plt.title(\"GDP by Region\")\n",
    "plt.xlabel(\"Region\")\n",
    "plt.ylabel(\"GDP Per Capita\")\n"
   ]
  },
  {
   "cell_type": "code",
   "execution_count": null,
   "metadata": {},
   "outputs": [],
   "source": [
    "#top 20 GDP countries\n",
    "gdp=gdp_df.sort_values([\"GDP_PerCapita\"],ascending=False)\n",
    "gdp.head(25)"
   ]
  },
  {
   "cell_type": "code",
   "execution_count": null,
   "metadata": {},
   "outputs": [],
   "source": [
    "#chart top 25 countries by GDP\n",
    "gdp=gdp_df[\"GDP_PerCapita\"]\n",
    "country=gdp_df[\"Country\"]\n",
    "\n",
    "plt.figure(figsize=(15, 10))\n",
    "top_25_countries = gdp_df.nlargest(25, 'GDP_PerCapita')\n",
    "top_25_countries.plot(kind='barh', x='Country', y='GDP_PerCapita', color='lightblue', legend=False)\n",
    "plt.title('GDP Per Capita of Top 25 Countries', fontsize=20)\n",
    "plt.xlabel('GDP Per Capita')\n",
    "plt.ylabel('Country')\n",
    "plt.show()\n"
   ]
  },
  {
   "cell_type": "code",
   "execution_count": null,
   "metadata": {},
   "outputs": [],
   "source": [
    "#bottom 20 GDP countries\n",
    "gdp=gdp_df.sort_values([\"GDP_PerCapita\"],ascending=True)\n",
    "gdp.head(25)"
   ]
  },
  {
   "cell_type": "code",
   "execution_count": null,
   "metadata": {},
   "outputs": [],
   "source": [
    "#Bottom 25 countries by GDP\n",
    "plt.figure(figsize=(15, 10))\n",
    "smallest_25_countries = gdp_df.nsmallest(25, 'GDP_PerCapita')\n",
    "smallest_25_countries.plot(kind='barh', x='Country', y='GDP_PerCapita', color='lightcoral', legend=False)\n",
    "plt.title('Lowest GDP Per Capita of 25 Countries', fontsize=20)\n",
    "plt.xlabel('GDP Per Capita')\n",
    "plt.ylabel('Country')\n",
    "plt.show()"
   ]
  },
  {
   "cell_type": "markdown",
   "metadata": {},
   "source": [
    "# Human Deveolpment Index (HDI)\n",
    "first by regional averages, then by country"
   ]
  },
  {
   "cell_type": "code",
   "execution_count": null,
   "metadata": {},
   "outputs": [],
   "source": [
    "#Analysing for HDI by Region\n",
    "hdi_df=data_df[[\"Country\",\"Region\",\"HDI\"]].copy()\n",
    "hdi_df"
   ]
  },
  {
   "cell_type": "code",
   "execution_count": null,
   "metadata": {},
   "outputs": [],
   "source": [
    "#average HDI per region\n",
    "plt.figure(figsize=(15, 6))\n",
    "hdi_df.groupby('Region')['HDI'].mean().plot(kind='bar', color='lightblue')\n",
    "plt.title('Average HDI by Region', fontsize=20)\n",
    "plt.xlabel('Region')\n",
    "plt.ylabel('Human Development Index')\n",
    "plt.xticks(rotation=90)\n",
    "plt.show()"
   ]
  },
  {
   "cell_type": "code",
   "execution_count": null,
   "metadata": {},
   "outputs": [],
   "source": [
    "#HDI per region\n",
    "hdi=hdi_df[\"HDI\"]\n",
    "region=gdp_df[\"Region\"]\n",
    "\n",
    "plt.bar(region,hdi,color=\"r\",alpha=0.5,align=\"center\")\n",
    "tick_loactions=[value for value in region]\n",
    "plt.xticks(tick_loactions,region,rotation=90)\n",
    "\n",
    "plt.title(\"HDI by Region\")\n",
    "plt.xlabel(\"Region\")\n",
    "plt.ylabel(\"Human Development Index\")"
   ]
  },
  {
   "cell_type": "code",
   "execution_count": null,
   "metadata": {},
   "outputs": [],
   "source": [
    "#Top 25 HDI Countries\n",
    "hdi=hdi_df.sort_values([\"HDI\"],ascending=False)\n",
    "hdi.head(25)"
   ]
  },
  {
   "cell_type": "code",
   "execution_count": null,
   "metadata": {},
   "outputs": [],
   "source": [
    "#Top 25 HDI Countries Graph\n",
    "hdi=hdi_df[\"HDI\"]\n",
    "country=hdi_df[\"Country\"]\n",
    "\n",
    "plt.figure(figsize=(15, 10))\n",
    "top_25_countries = hdi_df.nlargest(25, 'HDI')\n",
    "top_25_countries.plot(kind='barh', x='Country', y='HDI', color='lightblue', legend=False)\n",
    "plt.title('HDI of Top 25 Countries', fontsize=20)\n",
    "plt.xlabel('Human Development Index')\n",
    "plt.ylabel('Country')\n",
    "plt.show()\n"
   ]
  },
  {
   "cell_type": "code",
   "execution_count": null,
   "metadata": {},
   "outputs": [],
   "source": [
    "#bottom 25 HDI Countries\n",
    "hdi=hdi_df.sort_values([\"HDI\"],ascending=True)\n",
    "hdi.head(25)"
   ]
  },
  {
   "cell_type": "code",
   "execution_count": null,
   "metadata": {},
   "outputs": [],
   "source": [
    "#bottom 25 HDI Countries\n",
    "hdi=hdi_df[\"HDI\"]\n",
    "country=hdi_df[\"Country\"]\n",
    "\n",
    "plt.figure(figsize=(15, 10))\n",
    "top_25_countries = hdi_df.nsmallest(25, 'HDI')\n",
    "top_25_countries.plot(kind='barh', x='Country', y='HDI', color='lightblue', legend=False)\n",
    "plt.title('HDI of Bottom 25 Countries', fontsize=20)\n",
    "plt.xlabel('Human Development Index')\n",
    "plt.ylabel('Country')\n",
    "plt.show()\n"
   ]
  },
  {
   "cell_type": "markdown",
   "metadata": {},
   "source": [
    "## Next Section"
   ]
  },
  {
   "cell_type": "code",
   "execution_count": null,
   "metadata": {},
   "outputs": [],
   "source": []
  }
 ],
 "metadata": {
  "kernelspec": {
   "display_name": "Python 3 (ipykernel)",
   "language": "python",
   "name": "python3"
  },
  "language_info": {
   "codemirror_mode": {
    "name": "ipython",
    "version": 3
   },
   "file_extension": ".py",
   "mimetype": "text/x-python",
   "name": "python",
   "nbconvert_exporter": "python",
   "pygments_lexer": "ipython3",
   "version": "3.11.5"
  }
 },
 "nbformat": 4,
 "nbformat_minor": 2
}
